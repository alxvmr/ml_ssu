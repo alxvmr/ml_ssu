{
 "cells": [
  {
   "cell_type": "code",
   "execution_count": 434,
   "id": "f62026ba",
   "metadata": {},
   "outputs": [],
   "source": [
    "import pandas as pd\n",
    "from sklearn import preprocessing\n",
    "import matplotlib.pyplot as plt\n",
    "from sklearn.preprocessing import LabelEncoder\n",
    "import numpy as np\n",
    "from sklearn.model_selection import train_test_split\n",
    "from sklearn.model_selection import GridSearchCV\n",
    "\n",
    "from sklearn.tree import DecisionTreeClassifier\n",
    "from sklearn.linear_model import LinearRegression\n",
    "from sklearn.ensemble import RandomForestRegressor\n",
    "from sklearn.tree import DecisionTreeRegressor\n",
    "from sklearn.svm import SVR\n",
    "\n",
    "from sklearn.kernel_ridge import KernelRidge\n",
    "from sklearn.linear_model import BayesianRidge\n",
    "from sklearn.neighbors import KNeighborsRegressor\n",
    "import seaborn as sns\n",
    "from sklearn.ensemble import StackingRegressor\n",
    "from sklearn.ensemble import BaggingRegressor\n",
    "from sklearn.ensemble import AdaBoostRegressor\n",
    "from sklearn.ensemble import GradientBoostingRegressor"
   ]
  },
  {
   "cell_type": "code",
   "execution_count": 435,
   "id": "b8e5476b",
   "metadata": {},
   "outputs": [],
   "source": [
    "# !pip install lightgbm"
   ]
  },
  {
   "cell_type": "markdown",
   "id": "40be673b",
   "metadata": {},
   "source": [
    "### Предобработка"
   ]
  },
  {
   "cell_type": "code",
   "execution_count": 436,
   "id": "bcda4f0e",
   "metadata": {},
   "outputs": [],
   "source": [
    "data = pd.read_csv('insurance.csv')"
   ]
  },
  {
   "cell_type": "code",
   "execution_count": 437,
   "id": "3abac1da",
   "metadata": {},
   "outputs": [
    {
     "data": {
      "text/html": [
       "<div>\n",
       "<style scoped>\n",
       "    .dataframe tbody tr th:only-of-type {\n",
       "        vertical-align: middle;\n",
       "    }\n",
       "\n",
       "    .dataframe tbody tr th {\n",
       "        vertical-align: top;\n",
       "    }\n",
       "\n",
       "    .dataframe thead th {\n",
       "        text-align: right;\n",
       "    }\n",
       "</style>\n",
       "<table border=\"1\" class=\"dataframe\">\n",
       "  <thead>\n",
       "    <tr style=\"text-align: right;\">\n",
       "      <th></th>\n",
       "      <th>age</th>\n",
       "      <th>sex</th>\n",
       "      <th>bmi</th>\n",
       "      <th>children</th>\n",
       "      <th>smoker</th>\n",
       "      <th>region</th>\n",
       "      <th>charges</th>\n",
       "    </tr>\n",
       "  </thead>\n",
       "  <tbody>\n",
       "    <tr>\n",
       "      <th>0</th>\n",
       "      <td>19</td>\n",
       "      <td>female</td>\n",
       "      <td>27.900</td>\n",
       "      <td>0</td>\n",
       "      <td>yes</td>\n",
       "      <td>southwest</td>\n",
       "      <td>16884.92400</td>\n",
       "    </tr>\n",
       "    <tr>\n",
       "      <th>1</th>\n",
       "      <td>18</td>\n",
       "      <td>male</td>\n",
       "      <td>33.770</td>\n",
       "      <td>1</td>\n",
       "      <td>no</td>\n",
       "      <td>southeast</td>\n",
       "      <td>1725.55230</td>\n",
       "    </tr>\n",
       "    <tr>\n",
       "      <th>2</th>\n",
       "      <td>28</td>\n",
       "      <td>male</td>\n",
       "      <td>33.000</td>\n",
       "      <td>3</td>\n",
       "      <td>no</td>\n",
       "      <td>southeast</td>\n",
       "      <td>4449.46200</td>\n",
       "    </tr>\n",
       "    <tr>\n",
       "      <th>3</th>\n",
       "      <td>33</td>\n",
       "      <td>male</td>\n",
       "      <td>22.705</td>\n",
       "      <td>0</td>\n",
       "      <td>no</td>\n",
       "      <td>northwest</td>\n",
       "      <td>21984.47061</td>\n",
       "    </tr>\n",
       "    <tr>\n",
       "      <th>4</th>\n",
       "      <td>32</td>\n",
       "      <td>male</td>\n",
       "      <td>28.880</td>\n",
       "      <td>0</td>\n",
       "      <td>no</td>\n",
       "      <td>northwest</td>\n",
       "      <td>3866.85520</td>\n",
       "    </tr>\n",
       "  </tbody>\n",
       "</table>\n",
       "</div>"
      ],
      "text/plain": [
       "   age     sex     bmi  children smoker     region      charges\n",
       "0   19  female  27.900         0    yes  southwest  16884.92400\n",
       "1   18    male  33.770         1     no  southeast   1725.55230\n",
       "2   28    male  33.000         3     no  southeast   4449.46200\n",
       "3   33    male  22.705         0     no  northwest  21984.47061\n",
       "4   32    male  28.880         0     no  northwest   3866.85520"
      ]
     },
     "execution_count": 437,
     "metadata": {},
     "output_type": "execute_result"
    }
   ],
   "source": [
    "data.head()"
   ]
  },
  {
   "cell_type": "code",
   "execution_count": 438,
   "id": "881387b2",
   "metadata": {},
   "outputs": [
    {
     "name": "stdout",
     "output_type": "stream",
     "text": [
      "<class 'pandas.core.frame.DataFrame'>\n",
      "RangeIndex: 1338 entries, 0 to 1337\n",
      "Data columns (total 7 columns):\n",
      " #   Column    Non-Null Count  Dtype  \n",
      "---  ------    --------------  -----  \n",
      " 0   age       1338 non-null   int64  \n",
      " 1   sex       1338 non-null   object \n",
      " 2   bmi       1338 non-null   float64\n",
      " 3   children  1338 non-null   int64  \n",
      " 4   smoker    1338 non-null   object \n",
      " 5   region    1338 non-null   object \n",
      " 6   charges   1338 non-null   float64\n",
      "dtypes: float64(2), int64(2), object(3)\n",
      "memory usage: 73.3+ KB\n"
     ]
    }
   ],
   "source": [
    "data.info()"
   ]
  },
  {
   "cell_type": "code",
   "execution_count": 439,
   "id": "fdfdf76d",
   "metadata": {},
   "outputs": [
    {
     "data": {
      "text/html": [
       "<div>\n",
       "<style scoped>\n",
       "    .dataframe tbody tr th:only-of-type {\n",
       "        vertical-align: middle;\n",
       "    }\n",
       "\n",
       "    .dataframe tbody tr th {\n",
       "        vertical-align: top;\n",
       "    }\n",
       "\n",
       "    .dataframe thead th {\n",
       "        text-align: right;\n",
       "    }\n",
       "</style>\n",
       "<table border=\"1\" class=\"dataframe\">\n",
       "  <thead>\n",
       "    <tr style=\"text-align: right;\">\n",
       "      <th></th>\n",
       "      <th>age</th>\n",
       "      <th>bmi</th>\n",
       "      <th>children</th>\n",
       "      <th>charges</th>\n",
       "    </tr>\n",
       "  </thead>\n",
       "  <tbody>\n",
       "    <tr>\n",
       "      <th>count</th>\n",
       "      <td>1338.000000</td>\n",
       "      <td>1338.000000</td>\n",
       "      <td>1338.000000</td>\n",
       "      <td>1338.000000</td>\n",
       "    </tr>\n",
       "    <tr>\n",
       "      <th>mean</th>\n",
       "      <td>39.207025</td>\n",
       "      <td>30.663397</td>\n",
       "      <td>1.094918</td>\n",
       "      <td>13270.422265</td>\n",
       "    </tr>\n",
       "    <tr>\n",
       "      <th>std</th>\n",
       "      <td>14.049960</td>\n",
       "      <td>6.098187</td>\n",
       "      <td>1.205493</td>\n",
       "      <td>12110.011237</td>\n",
       "    </tr>\n",
       "    <tr>\n",
       "      <th>min</th>\n",
       "      <td>18.000000</td>\n",
       "      <td>15.960000</td>\n",
       "      <td>0.000000</td>\n",
       "      <td>1121.873900</td>\n",
       "    </tr>\n",
       "    <tr>\n",
       "      <th>25%</th>\n",
       "      <td>27.000000</td>\n",
       "      <td>26.296250</td>\n",
       "      <td>0.000000</td>\n",
       "      <td>4740.287150</td>\n",
       "    </tr>\n",
       "    <tr>\n",
       "      <th>50%</th>\n",
       "      <td>39.000000</td>\n",
       "      <td>30.400000</td>\n",
       "      <td>1.000000</td>\n",
       "      <td>9382.033000</td>\n",
       "    </tr>\n",
       "    <tr>\n",
       "      <th>75%</th>\n",
       "      <td>51.000000</td>\n",
       "      <td>34.693750</td>\n",
       "      <td>2.000000</td>\n",
       "      <td>16639.912515</td>\n",
       "    </tr>\n",
       "    <tr>\n",
       "      <th>max</th>\n",
       "      <td>64.000000</td>\n",
       "      <td>53.130000</td>\n",
       "      <td>5.000000</td>\n",
       "      <td>63770.428010</td>\n",
       "    </tr>\n",
       "  </tbody>\n",
       "</table>\n",
       "</div>"
      ],
      "text/plain": [
       "               age          bmi     children       charges\n",
       "count  1338.000000  1338.000000  1338.000000   1338.000000\n",
       "mean     39.207025    30.663397     1.094918  13270.422265\n",
       "std      14.049960     6.098187     1.205493  12110.011237\n",
       "min      18.000000    15.960000     0.000000   1121.873900\n",
       "25%      27.000000    26.296250     0.000000   4740.287150\n",
       "50%      39.000000    30.400000     1.000000   9382.033000\n",
       "75%      51.000000    34.693750     2.000000  16639.912515\n",
       "max      64.000000    53.130000     5.000000  63770.428010"
      ]
     },
     "execution_count": 439,
     "metadata": {},
     "output_type": "execute_result"
    }
   ],
   "source": [
    "data.describe()"
   ]
  },
  {
   "cell_type": "code",
   "execution_count": 441,
   "id": "3ebef30a",
   "metadata": {},
   "outputs": [
    {
     "name": "stdout",
     "output_type": "stream",
     "text": [
      "Количество строк =  1338\n",
      "Количество столбцов =  7\n"
     ]
    },
    {
     "data": {
      "text/html": [
       "<div>\n",
       "<style scoped>\n",
       "    .dataframe tbody tr th:only-of-type {\n",
       "        vertical-align: middle;\n",
       "    }\n",
       "\n",
       "    .dataframe tbody tr th {\n",
       "        vertical-align: top;\n",
       "    }\n",
       "\n",
       "    .dataframe thead th {\n",
       "        text-align: right;\n",
       "    }\n",
       "</style>\n",
       "<table border=\"1\" class=\"dataframe\">\n",
       "  <thead>\n",
       "    <tr style=\"text-align: right;\">\n",
       "      <th></th>\n",
       "      <th>Column</th>\n",
       "      <th>Count_null</th>\n",
       "    </tr>\n",
       "  </thead>\n",
       "  <tbody>\n",
       "    <tr>\n",
       "      <th>0</th>\n",
       "      <td>age</td>\n",
       "      <td>0</td>\n",
       "    </tr>\n",
       "    <tr>\n",
       "      <th>1</th>\n",
       "      <td>sex</td>\n",
       "      <td>0</td>\n",
       "    </tr>\n",
       "    <tr>\n",
       "      <th>2</th>\n",
       "      <td>bmi</td>\n",
       "      <td>0</td>\n",
       "    </tr>\n",
       "    <tr>\n",
       "      <th>3</th>\n",
       "      <td>children</td>\n",
       "      <td>0</td>\n",
       "    </tr>\n",
       "    <tr>\n",
       "      <th>4</th>\n",
       "      <td>smoker</td>\n",
       "      <td>0</td>\n",
       "    </tr>\n",
       "    <tr>\n",
       "      <th>5</th>\n",
       "      <td>region</td>\n",
       "      <td>0</td>\n",
       "    </tr>\n",
       "    <tr>\n",
       "      <th>6</th>\n",
       "      <td>charges</td>\n",
       "      <td>0</td>\n",
       "    </tr>\n",
       "  </tbody>\n",
       "</table>\n",
       "</div>"
      ],
      "text/plain": [
       "     Column  Count_null\n",
       "0       age           0\n",
       "1       sex           0\n",
       "2       bmi           0\n",
       "3  children           0\n",
       "4    smoker           0\n",
       "5    region           0\n",
       "6   charges           0"
      ]
     },
     "execution_count": 441,
     "metadata": {},
     "output_type": "execute_result"
    }
   ],
   "source": [
    "#посмотрим пропуски\n",
    "print(\"Количество строк = \", data.shape[0])\n",
    "print(\"Количество столбцов = \", data.shape[1])\n",
    "\n",
    "headers = data.columns\n",
    "count_null = pd.DataFrame(data[headers].isnull().sum())\n",
    "count_null = count_null.reset_index()\n",
    "count_null.rename(columns = {'index' : 'Column', 0 : 'Count_null'}, inplace = True) \n",
    "count_null\n",
    "#пропусков нет"
   ]
  },
  {
   "cell_type": "code",
   "execution_count": 442,
   "id": "bd42bf2e",
   "metadata": {},
   "outputs": [
    {
     "data": {
      "text/html": [
       "<div>\n",
       "<style scoped>\n",
       "    .dataframe tbody tr th:only-of-type {\n",
       "        vertical-align: middle;\n",
       "    }\n",
       "\n",
       "    .dataframe tbody tr th {\n",
       "        vertical-align: top;\n",
       "    }\n",
       "\n",
       "    .dataframe thead th {\n",
       "        text-align: right;\n",
       "    }\n",
       "</style>\n",
       "<table border=\"1\" class=\"dataframe\">\n",
       "  <thead>\n",
       "    <tr style=\"text-align: right;\">\n",
       "      <th></th>\n",
       "      <th>age</th>\n",
       "      <th>sex</th>\n",
       "      <th>bmi</th>\n",
       "      <th>children</th>\n",
       "      <th>smoker</th>\n",
       "      <th>region</th>\n",
       "      <th>charges</th>\n",
       "    </tr>\n",
       "  </thead>\n",
       "  <tbody>\n",
       "    <tr>\n",
       "      <th>0</th>\n",
       "      <td>19</td>\n",
       "      <td>0</td>\n",
       "      <td>27.900</td>\n",
       "      <td>0</td>\n",
       "      <td>1</td>\n",
       "      <td>3</td>\n",
       "      <td>16884.92400</td>\n",
       "    </tr>\n",
       "    <tr>\n",
       "      <th>1</th>\n",
       "      <td>18</td>\n",
       "      <td>1</td>\n",
       "      <td>33.770</td>\n",
       "      <td>1</td>\n",
       "      <td>0</td>\n",
       "      <td>2</td>\n",
       "      <td>1725.55230</td>\n",
       "    </tr>\n",
       "    <tr>\n",
       "      <th>2</th>\n",
       "      <td>28</td>\n",
       "      <td>1</td>\n",
       "      <td>33.000</td>\n",
       "      <td>3</td>\n",
       "      <td>0</td>\n",
       "      <td>2</td>\n",
       "      <td>4449.46200</td>\n",
       "    </tr>\n",
       "    <tr>\n",
       "      <th>3</th>\n",
       "      <td>33</td>\n",
       "      <td>1</td>\n",
       "      <td>22.705</td>\n",
       "      <td>0</td>\n",
       "      <td>0</td>\n",
       "      <td>1</td>\n",
       "      <td>21984.47061</td>\n",
       "    </tr>\n",
       "    <tr>\n",
       "      <th>4</th>\n",
       "      <td>32</td>\n",
       "      <td>1</td>\n",
       "      <td>28.880</td>\n",
       "      <td>0</td>\n",
       "      <td>0</td>\n",
       "      <td>1</td>\n",
       "      <td>3866.85520</td>\n",
       "    </tr>\n",
       "  </tbody>\n",
       "</table>\n",
       "</div>"
      ],
      "text/plain": [
       "   age  sex     bmi  children  smoker  region      charges\n",
       "0   19    0  27.900         0       1       3  16884.92400\n",
       "1   18    1  33.770         1       0       2   1725.55230\n",
       "2   28    1  33.000         3       0       2   4449.46200\n",
       "3   33    1  22.705         0       0       1  21984.47061\n",
       "4   32    1  28.880         0       0       1   3866.85520"
      ]
     },
     "execution_count": 442,
     "metadata": {},
     "output_type": "execute_result"
    }
   ],
   "source": [
    "#кодирование категориальных признаков\n",
    "labelencoder = LabelEncoder()\n",
    "data['sex'] = labelencoder.fit_transform(data['sex'])\n",
    "data['smoker'] = labelencoder.fit_transform(data['smoker'])\n",
    "data['region'] = labelencoder.fit_transform(data['region'])\n",
    "data.head()"
   ]
  },
  {
   "cell_type": "code",
   "execution_count": 443,
   "id": "ee8cb7aa",
   "metadata": {},
   "outputs": [
    {
     "data": {
      "text/plain": [
       "<AxesSubplot:>"
      ]
     },
     "execution_count": 443,
     "metadata": {},
     "output_type": "execute_result"
    },
    {
     "data": {
      "image/png": "[encoded data removed]",
      "text/plain": [
       "<Figure size 432x288 with 2 Axes>"
      ]
     },
     "metadata": {
      "needs_background": "light"
     },
     "output_type": "display_data"
    }
   ],
   "source": [
    "#корреляционная матрица\n",
    "sns.heatmap(data.corr(), annot=True)"
   ]
  },
  {
   "cell_type": "code",
   "execution_count": 489,
   "id": "2b91ccb3",
   "metadata": {},
   "outputs": [
    {
     "name": "stderr",
     "output_type": "stream",
     "text": [
      "C:\\Users\\alexe\\anaconda3\\lib\\site-packages\\seaborn\\distributions.py:2557: FutureWarning: `distplot` is a deprecated function and will be removed in a future version. Please adapt your code to use either `displot` (a figure-level function with similar flexibility) or `histplot` (an axes-level function for histograms).\n",
      "  warnings.warn(msg, FutureWarning)\n"
     ]
    },
    {
     "data": {
      "text/plain": [
       "<AxesSubplot:xlabel='charges', ylabel='Density'>"
      ]
     },
     "execution_count": 489,
     "metadata": {},
     "output_type": "execute_result"
    },
    {
     "data": {
      "image/png": "[encoded data removed]",
      "text/plain": [
       "<Figure size 432x288 with 1 Axes>"
      ]
     },
     "metadata": {
      "needs_background": "light"
     },
     "output_type": "display_data"
    }
   ],
   "source": [
    "#распределение целевой переменной\n",
    "sns.distplot(data['charges'])"
   ]
  },
  {
   "cell_type": "code",
   "execution_count": 444,
   "id": "108018cf",
   "metadata": {},
   "outputs": [
    {
     "data": {
      "image/png": "[encoded data removed]",
      "text/plain": [
       "<Figure size 1152x864 with 7 Axes>"
      ]
     },
     "metadata": {
      "needs_background": "light"
     },
     "output_type": "display_data"
    }
   ],
   "source": [
    "#выбросы\n",
    "i = 0\n",
    "fig = plt.figure(figsize=(16, 12))\n",
    "for column in data.columns:\n",
    "    ax = fig.add_subplot(1, 7, i + 1)\n",
    "    data.boxplot(column=[column])\n",
    "    i += 1"
   ]
  },
  {
   "cell_type": "code",
   "execution_count": 445,
   "id": "5d5aec62",
   "metadata": {},
   "outputs": [
    {
     "name": "stdout",
     "output_type": "stream",
     "text": [
      "Column =  bmi ; Count_value (< min) =  0\n",
      "Column =  bmi ; Count_value (> max) =  9\n"
     ]
    }
   ],
   "source": [
    "#посмотрим выброси по признаку bmi и charges\n",
    "suspicious_column = ['bmi']\n",
    "\n",
    "for column in suspicious_column:\n",
    "    for x in [column]:\n",
    "        q75,q25 = np.percentile(data.loc[:,x],[75,25])\n",
    "        intr_qr = q75-q25\n",
    "\n",
    "        max = q75+(1.5*intr_qr)\n",
    "        min = q25-(1.5*intr_qr)\n",
    "        \n",
    "        print('Column = ', column, '; Count_value (< min) = ', data.loc[data[x] < min,x].shape[0])\n",
    "        data.loc[data[x] < min,x] = np.nan\n",
    "        print('Column = ', column, '; Count_value (> max) = ', data.loc[data[x] > max,x].shape[0])\n",
    "        data.loc[data[x] > max,x] = np.nan"
   ]
  },
  {
   "cell_type": "code",
   "execution_count": 446,
   "id": "f664150c",
   "metadata": {},
   "outputs": [],
   "source": [
    "data = data.dropna() #удалили выбросы"
   ]
  },
  {
   "cell_type": "code",
   "execution_count": null,
   "id": "a1b97ec8",
   "metadata": {},
   "outputs": [],
   "source": []
  },
  {
   "cell_type": "code",
   "execution_count": 447,
   "id": "fff2d2c6",
   "metadata": {},
   "outputs": [
    {
     "data": {
      "image/png": "[encoded data removed]",
      "text/plain": [
       "<Figure size 1152x864 with 7 Axes>"
      ]
     },
     "metadata": {
      "needs_background": "light"
     },
     "output_type": "display_data"
    }
   ],
   "source": [
    "#выбросы\n",
    "i = 0\n",
    "fig = plt.figure(figsize=(16, 12))\n",
    "for column in data.columns:\n",
    "    ax = fig.add_subplot(1, 7, i + 1)\n",
    "    data.boxplot(column=[column])\n",
    "    i += 1"
   ]
  },
  {
   "cell_type": "code",
   "execution_count": 448,
   "id": "cdf1e899",
   "metadata": {},
   "outputs": [],
   "source": [
    "#нормализуем данные\n",
    "data_columns = ['age', 'bmi', 'children', 'charges']\n",
    "data[data_columns] = pd.DataFrame(preprocessing.normalize(data[data_columns]), columns=data_columns)"
   ]
  },
  {
   "cell_type": "code",
   "execution_count": 449,
   "id": "a36bfd26",
   "metadata": {},
   "outputs": [],
   "source": [
    "data = data.dropna()"
   ]
  },
  {
   "cell_type": "markdown",
   "id": "fb754219",
   "metadata": {},
   "source": [
    "## Обучение"
   ]
  },
  {
   "cell_type": "code",
   "execution_count": 450,
   "id": "20c2d96a",
   "metadata": {},
   "outputs": [],
   "source": [
    "X = data.iloc[:, :5]\n",
    "y = data.iloc[:, -1]"
   ]
  },
  {
   "cell_type": "code",
   "execution_count": 451,
   "id": "cbd5633b",
   "metadata": {},
   "outputs": [],
   "source": [
    "#разбили выборку\n",
    "X_train, X_test, y_train, y_test = train_test_split(X, y, test_size=0.20)"
   ]
  },
  {
   "cell_type": "markdown",
   "id": "f9fb45a8",
   "metadata": {},
   "source": [
    "### Линейная регрессия"
   ]
  },
  {
   "cell_type": "code",
   "execution_count": 452,
   "id": "f6da9139",
   "metadata": {},
   "outputs": [
    {
     "data": {
      "text/plain": [
       "0.9116615581491786"
      ]
     },
     "execution_count": 452,
     "metadata": {},
     "output_type": "execute_result"
    }
   ],
   "source": [
    "#линейная регрессия\n",
    "lr = LinearRegression().fit(X_train, y_train)\n",
    "score_lr = lr.score(X_test, y_test)\n",
    "score_lr"
   ]
  },
  {
   "cell_type": "markdown",
   "id": "4ed7034c",
   "metadata": {},
   "source": [
    "### Деревья решений"
   ]
  },
  {
   "cell_type": "code",
   "execution_count": 453,
   "id": "0b4d8005",
   "metadata": {},
   "outputs": [],
   "source": [
    "#деревья решений\n",
    "max_depth = np.arange(1, 30, 1)\n",
    "score = []\n",
    "\n",
    "for d in max_depth:\n",
    "    dtr = DecisionTreeRegressor(max_depth=d)\n",
    "    dtr.fit(X_train, y_train)\n",
    "    score.append(dtr.score(X_test, y_test))"
   ]
  },
  {
   "cell_type": "code",
   "execution_count": 454,
   "id": "f2bb4317",
   "metadata": {},
   "outputs": [
    {
     "name": "stdout",
     "output_type": "stream",
     "text": [
      "0.9970791140245181\n",
      "12\n"
     ]
    },
    {
     "data": {
      "image/png": "[encoded data removed]",
      "text/plain": [
       "<Figure size 432x288 with 1 Axes>"
      ]
     },
     "metadata": {
      "needs_background": "light"
     },
     "output_type": "display_data"
    }
   ],
   "source": [
    "plt.plot(score)\n",
    "print(np.amax(score))\n",
    "print(np.argmax(score) + 1)\n",
    "\n",
    "#лучшая глубина - 18"
   ]
  },
  {
   "cell_type": "code",
   "execution_count": 455,
   "id": "a7c67a71",
   "metadata": {},
   "outputs": [],
   "source": [
    "min_samples_leaf = np.arange(1, 100, 1)\n",
    "score = []\n",
    "\n",
    "for s in min_samples_leaf:\n",
    "    dtr = DecisionTreeRegressor(max_depth=18, min_samples_leaf=s)\n",
    "    dtr.fit(X_train, y_train)\n",
    "    score.append(dtr.score(X_test, y_test))"
   ]
  },
  {
   "cell_type": "code",
   "execution_count": 456,
   "id": "5066e337",
   "metadata": {},
   "outputs": [
    {
     "name": "stdout",
     "output_type": "stream",
     "text": [
      "0.9965200106500209\n",
      "1\n"
     ]
    },
    {
     "data": {
      "image/png": "[encoded data removed]",
      "text/plain": [
       "<Figure size 432x288 with 1 Axes>"
      ]
     },
     "metadata": {
      "needs_background": "light"
     },
     "output_type": "display_data"
    }
   ],
   "source": [
    "plt.plot(score)\n",
    "score_dtr = np.amax(score)\n",
    "print(np.amax(score))\n",
    "print(np.argmax(score) + 1)\n",
    "\n",
    "#min_samples_leaf - 1"
   ]
  },
  {
   "cell_type": "code",
   "execution_count": 457,
   "id": "db0d49eb",
   "metadata": {},
   "outputs": [],
   "source": [
    "# min_samples_split = np.arange(2, 100, 1)\n",
    "# score = []\n",
    "# for s in min_samples_split:\n",
    "#     dtr = DecisionTreeRegressor(max_depth=4, min_samples_leaf=45, min_samples_split=s)\n",
    "#     dtr.fit(X_train, y_train)\n",
    "#     score.append(dtr.score(X_test, y_test))"
   ]
  },
  {
   "cell_type": "code",
   "execution_count": 458,
   "id": "bdc8e899",
   "metadata": {},
   "outputs": [],
   "source": [
    "# plt.plot(score)\n",
    "# print(np.amax(score))\n",
    "# print(np.argmax(score) + 1)\n",
    "\n",
    "# #min_samples_split - "
   ]
  },
  {
   "cell_type": "markdown",
   "id": "5f80077a",
   "metadata": {},
   "source": [
    "### Случайный лес"
   ]
  },
  {
   "cell_type": "code",
   "execution_count": 459,
   "id": "5ea3da90",
   "metadata": {},
   "outputs": [],
   "source": [
    "max_depth = np.arange(1, 30, 1)\n",
    "score = []\n",
    "for d in max_depth:\n",
    "    rf = RandomForestRegressor(max_depth=d)\n",
    "    rf.fit(X_train, y_train)\n",
    "    score.append(rf.score(X_test, y_test))"
   ]
  },
  {
   "cell_type": "code",
   "execution_count": 460,
   "id": "0aacc2ae",
   "metadata": {},
   "outputs": [
    {
     "name": "stdout",
     "output_type": "stream",
     "text": [
      "0.998072329768577\n",
      "29\n"
     ]
    },
    {
     "data": {
      "image/png": "[encoded data removed]",
      "text/plain": [
       "<Figure size 432x288 with 1 Axes>"
      ]
     },
     "metadata": {
      "needs_background": "light"
     },
     "output_type": "display_data"
    }
   ],
   "source": [
    "plt.plot(score)\n",
    "score_rf = np.amax(score)\n",
    "print(np.amax(score))\n",
    "print(np.argmax(score) + 1)"
   ]
  },
  {
   "cell_type": "code",
   "execution_count": 461,
   "id": "ca9bb0af",
   "metadata": {},
   "outputs": [],
   "source": [
    "#score\n",
    "#лучшая глубина - 13"
   ]
  },
  {
   "cell_type": "code",
   "execution_count": 462,
   "id": "7bd817bb",
   "metadata": {},
   "outputs": [],
   "source": [
    "min_samples_leaf = np.arange(1, 100, 1)\n",
    "score = []\n",
    "for s in min_samples_leaf:\n",
    "    rf = RandomForestRegressor(max_depth=13, min_samples_leaf=s)\n",
    "    rf.fit(X_train, y_train)\n",
    "    score.append(rf.score(X_test, y_test))"
   ]
  },
  {
   "cell_type": "code",
   "execution_count": 463,
   "id": "9305c418",
   "metadata": {},
   "outputs": [
    {
     "name": "stdout",
     "output_type": "stream",
     "text": [
      "0.9976771548705946\n",
      "1\n"
     ]
    },
    {
     "data": {
      "image/png": "[encoded data removed]",
      "text/plain": [
       "<Figure size 432x288 with 1 Axes>"
      ]
     },
     "metadata": {
      "needs_background": "light"
     },
     "output_type": "display_data"
    }
   ],
   "source": [
    "plt.plot(score)\n",
    "print(np.amax(score))\n",
    "print(np.argmax(score) + 1)\n",
    "\n",
    "#min_samples_leaf=1"
   ]
  },
  {
   "cell_type": "code",
   "execution_count": 464,
   "id": "afb21465",
   "metadata": {},
   "outputs": [],
   "source": [
    "min_samples_split = np.arange(2, 100, 1)\n",
    "score = []\n",
    "for s in min_samples_split:\n",
    "    rf = RandomForestRegressor(max_depth=13, min_samples_leaf=1, min_samples_split=s)\n",
    "    rf.fit(X_train, y_train)\n",
    "    score.append(rf.score(X_test, y_test))"
   ]
  },
  {
   "cell_type": "code",
   "execution_count": 465,
   "id": "797b9333",
   "metadata": {},
   "outputs": [
    {
     "name": "stdout",
     "output_type": "stream",
     "text": [
      "0.9982361784306358\n",
      "3\n"
     ]
    },
    {
     "data": {
      "image/png": "[encoded data removed]",
      "text/plain": [
       "<Figure size 432x288 with 1 Axes>"
      ]
     },
     "metadata": {
      "needs_background": "light"
     },
     "output_type": "display_data"
    }
   ],
   "source": [
    "plt.plot(score)\n",
    "print(np.amax(score))\n",
    "print(np.argmax(score) + 2)\n",
    "\n",
    "#min_samples_split = 3"
   ]
  },
  {
   "cell_type": "markdown",
   "id": "ff1677d7",
   "metadata": {},
   "source": [
    "### KNN"
   ]
  },
  {
   "cell_type": "code",
   "execution_count": null,
   "id": "eb43da16",
   "metadata": {},
   "outputs": [],
   "source": []
  },
  {
   "cell_type": "code",
   "execution_count": 466,
   "id": "cbb01433",
   "metadata": {},
   "outputs": [],
   "source": [
    "# #номализуем данные\n",
    "# data_columns = ['age', 'bmi', 'children', 'charges']\n",
    "# data_knn = data.copy()\n",
    "# data_knn[data_columns] = pd.DataFrame(preprocessing.normalize(data[data_columns]), columns=data_columns)"
   ]
  },
  {
   "cell_type": "code",
   "execution_count": 467,
   "id": "c9b2ef5f",
   "metadata": {},
   "outputs": [],
   "source": [
    "# data_knn = data_knn.dropna()\n",
    "# X_knn = data_knn.iloc[:, :5]\n",
    "# y_knn = data_knn.iloc[:, -1]\n",
    "# #разбили выборку\n",
    "# Xknn_train, Xknn_test, yknn_train, yknn_test = train_test_split(X_knn, y_knn, test_size=0.20)"
   ]
  },
  {
   "cell_type": "code",
   "execution_count": 468,
   "id": "5f326384",
   "metadata": {},
   "outputs": [],
   "source": [
    "n_neighbors = np.arange(1, 50, 1)\n",
    "score = []\n",
    "for n in n_neighbors:\n",
    "    knr = KNeighborsRegressor(n_neighbors=n)\n",
    "    knr.fit(X_train, y_train)\n",
    "    score.append(knr.score(X_test, y_test))"
   ]
  },
  {
   "cell_type": "code",
   "execution_count": 469,
   "id": "0d7e7850",
   "metadata": {},
   "outputs": [
    {
     "name": "stdout",
     "output_type": "stream",
     "text": [
      "0.9967139380425645\n",
      "2\n"
     ]
    },
    {
     "data": {
      "image/png": "[encoded data removed]",
      "text/plain": [
       "<Figure size 432x288 with 1 Axes>"
      ]
     },
     "metadata": {
      "needs_background": "light"
     },
     "output_type": "display_data"
    }
   ],
   "source": [
    "plt.plot(score)\n",
    "score_knr = np.amax(score)\n",
    "print(np.amax(score))\n",
    "print(np.argmax(score) + 1)\n",
    "\n",
    "#n_neighbors=1"
   ]
  },
  {
   "cell_type": "markdown",
   "id": "59929cef",
   "metadata": {},
   "source": [
    "### Сравнение"
   ]
  },
  {
   "cell_type": "code",
   "execution_count": 470,
   "id": "86627a36",
   "metadata": {},
   "outputs": [],
   "source": [
    "d = {\"Score\":[score_knr, score_dtr, score_rf, score_lr]}\n",
    "df2 = pd.DataFrame(d, index=['KNeighborsRegressor', 'DecisionTreeRegressor', 'RandomForestRegressor', 'LinearRegression'])"
   ]
  },
  {
   "cell_type": "markdown",
   "id": "e54290df",
   "metadata": {},
   "source": [
    "# Ансамбли"
   ]
  },
  {
   "cell_type": "code",
   "execution_count": 471,
   "id": "4b54172b",
   "metadata": {},
   "outputs": [],
   "source": [
    "lr = LinearRegression().fit(X_train, y_train)\n",
    "dtr = DecisionTreeRegressor(max_depth=18, min_samples_leaf=1)\n",
    "rf = RandomForestRegressor(max_depth=13)\n",
    "knr = KNeighborsRegressor(n_neighbors=18)"
   ]
  },
  {
   "cell_type": "markdown",
   "id": "44890505",
   "metadata": {},
   "source": [
    "### Стеккинг"
   ]
  },
  {
   "cell_type": "code",
   "execution_count": 472,
   "id": "ed0f335e",
   "metadata": {},
   "outputs": [],
   "source": [
    "from itertools import permutations"
   ]
  },
  {
   "cell_type": "code",
   "execution_count": 473,
   "id": "ddde853d",
   "metadata": {},
   "outputs": [
    {
     "name": "stdout",
     "output_type": "stream",
     "text": [
      "24\n",
      "0.9794564461725159\n",
      "0.9966416331900527\n",
      "0.979624097086896\n",
      "0.9967497339044433\n",
      "0.9957480403266221\n",
      "0.9973681441317596\n",
      "0.9794161913983279\n",
      "0.9959234682910295\n",
      "0.9793406888051835\n",
      "0.997493166997268\n",
      "0.9958802097623978\n",
      "0.9976046753400662\n",
      "0.9793128993454506\n",
      "0.997323325119926\n",
      "0.9794469892053151\n",
      "0.9976589970192026\n",
      "0.9959334813668362\n",
      "0.9975490091189025\n",
      "0.9961491959477319\n",
      "0.9952964829211989\n",
      "0.9958732329734032\n",
      "0.9979065885831778\n",
      "0.9970944677343777\n",
      "0.9973922948505918\n"
     ]
    }
   ],
   "source": [
    "best = []\n",
    "best_score = 0\n",
    "est = [lr, dtr, rf, knr]\n",
    "permut = list(permutations(est))\n",
    "print(len(permut))\n",
    "\n",
    "for p in permut:\n",
    "    estimators = [('e1', p[0]), ('e2', p[1]), ('e3', p[2])]\n",
    "    clf_stacking = StackingRegressor(estimators=estimators, final_estimator=p[3])\n",
    "    clf_stacking.fit(X_train, y_train)\n",
    "    score = clf_stacking.score(X_test, y_test)\n",
    "    if score > best_score:\n",
    "        best = p\n",
    "        best_score = score\n",
    "    print(score)"
   ]
  },
  {
   "cell_type": "code",
   "execution_count": 474,
   "id": "87193ae2",
   "metadata": {},
   "outputs": [
    {
     "name": "stdout",
     "output_type": "stream",
     "text": [
      "Лучшая комбинация (KNeighborsRegressor(n_neighbors=18), DecisionTreeRegressor(max_depth=18), RandomForestRegressor(max_depth=13), LinearRegression()) с результатом 0.9979065885831778\n"
     ]
    }
   ],
   "source": [
    "print(f\"Лучшая комбинация {best} с результатом {best_score}\")\n",
    "score_stacking = best_score"
   ]
  },
  {
   "cell_type": "markdown",
   "id": "f921357b",
   "metadata": {},
   "source": [
    "### Бэггинг"
   ]
  },
  {
   "cell_type": "code",
   "execution_count": 475,
   "id": "3d1e8e60",
   "metadata": {},
   "outputs": [],
   "source": [
    "score = []\n",
    "est = [lr, dtr, rf, knr]\n",
    "best_score = 0\n",
    "best_e = []\n",
    "best_i = []\n",
    "\n",
    "for e in est:\n",
    "    for i in range(1, 10):\n",
    "        clf_bag = BaggingRegressor(base_estimator=e, n_estimators=i, random_state=12)\n",
    "        clf_bag.fit(X_train, y_train)\n",
    "        score = clf_bag.score(X_test, y_test)\n",
    "        if score > best_score:\n",
    "            best_e = e\n",
    "            best_i = i\n",
    "            best_score = score"
   ]
  },
  {
   "cell_type": "code",
   "execution_count": 476,
   "id": "33f43caf",
   "metadata": {},
   "outputs": [
    {
     "name": "stdout",
     "output_type": "stream",
     "text": [
      "Лучшая модель DecisionTreeRegressor(max_depth=18) в количестве 9 с результатом 0.998002289049384\n"
     ]
    }
   ],
   "source": [
    "print(f\"Лучшая модель {best_e} в количестве {best_i} с результатом {best_score}\")\n",
    "score_bagging = best_score"
   ]
  },
  {
   "cell_type": "markdown",
   "id": "883272af",
   "metadata": {},
   "source": [
    "### Бустинг"
   ]
  },
  {
   "cell_type": "markdown",
   "id": "1c823300",
   "metadata": {},
   "source": [
    "### адаптивный бустинг"
   ]
  },
  {
   "cell_type": "code",
   "execution_count": 477,
   "id": "4b68279c",
   "metadata": {},
   "outputs": [],
   "source": [
    "n_est = np.arange(1, 30, 1)\n",
    "score = []\n",
    "for n in n_est: \n",
    "    clf_adaboost = AdaBoostRegressor(base_estimator=knr, n_estimators=n, random_state=12)\n",
    "    clf_adaboost.fit(X_train, y_train)\n",
    "    score.append(clf_adaboost.score(X_test, y_test))"
   ]
  },
  {
   "cell_type": "code",
   "execution_count": 478,
   "id": "76b27349",
   "metadata": {},
   "outputs": [
    {
     "name": "stdout",
     "output_type": "stream",
     "text": [
      "0.9965814603645782\n",
      "13\n"
     ]
    },
    {
     "data": {
      "image/png": "[encoded data removed]",
      "text/plain": [
       "<Figure size 432x288 with 1 Axes>"
      ]
     },
     "metadata": {
      "needs_background": "light"
     },
     "output_type": "display_data"
    }
   ],
   "source": [
    "plt.plot(score)\n",
    "print(np.amax(score))\n",
    "print(np.argmax(score) + 1)\n",
    "score_adaboost = np.amax(score)"
   ]
  },
  {
   "cell_type": "markdown",
   "id": "74777632",
   "metadata": {},
   "source": [
    "### Градиентный бустинг"
   ]
  },
  {
   "cell_type": "code",
   "execution_count": 479,
   "id": "bc3d9b68",
   "metadata": {},
   "outputs": [],
   "source": [
    "max_depth = np.arange(1, 30, 1)\n",
    "score = []\n",
    "for d in max_depth:\n",
    "    clf_grboost = GradientBoostingRegressor(max_depth=d, n_estimators=100, random_state=12, learning_rate=1)\n",
    "    clf_grboost.fit(X_train, y_train)\n",
    "    score.append(clf_grboost.score(X_test, y_test))"
   ]
  },
  {
   "cell_type": "code",
   "execution_count": 480,
   "id": "fd060b0d",
   "metadata": {},
   "outputs": [
    {
     "name": "stdout",
     "output_type": "stream",
     "text": [
      "0.998244028044048\n",
      "2\n"
     ]
    },
    {
     "data": {
      "image/png": "[encoded data removed]",
      "text/plain": [
       "<Figure size 432x288 with 1 Axes>"
      ]
     },
     "metadata": {
      "needs_background": "light"
     },
     "output_type": "display_data"
    }
   ],
   "source": [
    "plt.plot(score)\n",
    "print(np.amax(score))\n",
    "print(np.argmax(score) + 1)\n",
    "score_gradboost = np.amax(score)"
   ]
  },
  {
   "cell_type": "markdown",
   "id": "f5680ac5",
   "metadata": {},
   "source": [
    "# Финальное сравнение"
   ]
  },
  {
   "cell_type": "code",
   "execution_count": 486,
   "id": "fb7a7be9",
   "metadata": {},
   "outputs": [
    {
     "data": {
      "text/html": [
       "<div>\n",
       "<style scoped>\n",
       "    .dataframe tbody tr th:only-of-type {\n",
       "        vertical-align: middle;\n",
       "    }\n",
       "\n",
       "    .dataframe tbody tr th {\n",
       "        vertical-align: top;\n",
       "    }\n",
       "\n",
       "    .dataframe thead th {\n",
       "        text-align: right;\n",
       "    }\n",
       "</style>\n",
       "<table border=\"1\" class=\"dataframe\">\n",
       "  <thead>\n",
       "    <tr style=\"text-align: right;\">\n",
       "      <th></th>\n",
       "      <th>Score</th>\n",
       "    </tr>\n",
       "  </thead>\n",
       "  <tbody>\n",
       "    <tr>\n",
       "      <th>GradientBoostingRegressor</th>\n",
       "      <td>0.998244</td>\n",
       "    </tr>\n",
       "    <tr>\n",
       "      <th>RandomForestRegressor</th>\n",
       "      <td>0.998072</td>\n",
       "    </tr>\n",
       "    <tr>\n",
       "      <th>BaggingRegressor</th>\n",
       "      <td>0.998002</td>\n",
       "    </tr>\n",
       "    <tr>\n",
       "      <th>StackingRegressor</th>\n",
       "      <td>0.997907</td>\n",
       "    </tr>\n",
       "    <tr>\n",
       "      <th>KNeighborsRegressor</th>\n",
       "      <td>0.996714</td>\n",
       "    </tr>\n",
       "    <tr>\n",
       "      <th>AdaBoostRegressor</th>\n",
       "      <td>0.996581</td>\n",
       "    </tr>\n",
       "    <tr>\n",
       "      <th>DecisionTreeRegressor</th>\n",
       "      <td>0.996520</td>\n",
       "    </tr>\n",
       "    <tr>\n",
       "      <th>LinearRegression</th>\n",
       "      <td>0.911662</td>\n",
       "    </tr>\n",
       "  </tbody>\n",
       "</table>\n",
       "</div>"
      ],
      "text/plain": [
       "                              Score\n",
       "GradientBoostingRegressor  0.998244\n",
       "RandomForestRegressor      0.998072\n",
       "BaggingRegressor           0.998002\n",
       "StackingRegressor          0.997907\n",
       "KNeighborsRegressor        0.996714\n",
       "AdaBoostRegressor          0.996581\n",
       "DecisionTreeRegressor      0.996520\n",
       "LinearRegression           0.911662"
      ]
     },
     "execution_count": 486,
     "metadata": {},
     "output_type": "execute_result"
    }
   ],
   "source": [
    "d3 = {\"Score\":[score_knr, score_dtr, score_rf, score_lr, score_stacking, score_bagging, score_adaboost, score_gradboost]}\n",
    "df3 = pd.DataFrame(d3, index=[ 'KNeighborsRegressor', 'DecisionTreeRegressor', 'RandomForestRegressor'\n",
    "                            , 'LinearRegression', 'StackingRegressor', 'BaggingRegressor'\n",
    "                            , 'AdaBoostRegressor', 'GradientBoostingRegressor'])\n",
    "df3 = df3.sort_values(by='Score', ascending=False)\n",
    "df3"
   ]
  }
 ],
 "metadata": {
  "kernelspec": {
   "display_name": "Python 3",
   "language": "python",
   "name": "python3"
  },
  "language_info": {
   "codemirror_mode": {
    "name": "ipython",
    "version": 3
   },
   "file_extension": ".py",
   "mimetype": "text/x-python",
   "name": "python",
   "nbconvert_exporter": "python",
   "pygments_lexer": "ipython3",
   "version": "3.8.8"
  }
 },
 "nbformat": 4,
 "nbformat_minor": 5
}
